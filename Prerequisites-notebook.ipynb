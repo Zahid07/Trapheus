{
 "cells": [
  {
   "cell_type": "markdown",
   "id": "79a5fe45-1150-49e5-80de-858fe8d58785",
   "metadata": {},
   "source": [
    "# This notebook focuses on the prerequisites section of Trapheus. Executing this notebook will create the following resources\n",
    "* Verify an email address to be used to send email alerts\n",
    "* Create a S3 bucket where the system is going to store the cloud formation templates\n",
    "* Create a VPC with 2 Private Subnets in 2 availability zones. Make sure the region passed is the same as in AWS credentials\n",
    "* Create an RDS instance with the given name with MySQL DB, with credentials (root/pass12345)\n",
    "\n",
    "> Note:  Make sure to have AWS credentials configured. Refer to [Setting up AWS credentials](https://boto3.amazonaws.com/v1/documentation/api/latest/guide/credentials.html)"
   ]
  },
  {
   "cell_type": "code",
   "execution_count": null,
   "id": "ab1d9b7a-0f99-4935-a03f-5f6807a7d113",
   "metadata": {},
   "outputs": [],
   "source": [
    "email_id=input(\"Enter your email id to verify in SES: \")\n",
    "region=input(\"Enter the region to create the resources: \")\n",
    "s3_bucket_name=input(\"Enter the name of the S3 bucket to be created(Proposed Name: trapheus-cfn-s3-[account-id]-[region]): \")\n",
    "db_instance_name=input(\"Enter the name for the RDS instance to be created: \")"
   ]
  },
  {
   "cell_type": "code",
   "execution_count": null,
   "id": "9f78c60c-9e29-4194-ad1a-415aac889e18",
   "metadata": {},
   "outputs": [],
   "source": [
    "import boto3"
   ]
  },
  {
   "cell_type": "code",
   "execution_count": null,
   "id": "c1dd5f60-a9fd-4126-9cdc-b6bb4739c9f6",
   "metadata": {},
   "outputs": [],
   "source": [
    "# Verify email\n",
    "ses = boto3.client('ses')\n",
    "response = ses.verify_email_identity(\n",
    "  EmailAddress = email_id\n",
    ")"
   ]
  },
  {
   "cell_type": "code",
   "execution_count": null,
   "id": "6b87538d-9771-42a5-9217-2a25a9709998",
   "metadata": {},
   "outputs": [],
   "source": [
    "#Create S3 bucket\n",
    "s3 = boto3.resource('s3')\n",
    "s3.create_bucket(Bucket=s3_bucket_name,CreateBucketConfiguration={\n",
    "        'LocationConstraint': region\n",
    "    })"
   ]
  },
  {
   "cell_type": "code",
   "execution_count": null,
   "id": "affe7b5c-5c67-43f3-aa5f-37c291307175",
   "metadata": {},
   "outputs": [],
   "source": [
    "# Get availability zones\n",
    "response = ec2Client.describe_availability_zones(\n",
    "    Filters=[\n",
    "        {\n",
    "            'Name': 'region-name',\n",
    "            'Values': [region]\n",
    "        },\n",
    "        {\n",
    "            'Name': 'state',\n",
    "            'Values': ['available']\n",
    "        },\n",
    "    ]\n",
    ")\n",
    "if len(response['AvailabilityZones']) < 2:\n",
    "    raise SystemExit(\"Stopping the execution. We need at least 2 availability zones to create private subnets. Make sure the region is set correctly in aws credentials\")\n",
    "zone1 = response['AvailabilityZones'][0]['ZoneName']\n",
    "zone2 = response['AvailabilityZones'][1]['ZoneName']\n",
    "print(zone1, zone2)"
   ]
  },
  {
   "cell_type": "code",
   "execution_count": null,
   "id": "37a1e945-bddf-42e7-aa5c-b4689617bf22",
   "metadata": {},
   "outputs": [],
   "source": [
    "#Create VPC\n",
    "ec2 = boto3.resource('ec2')\n",
    "ec2Client = boto3.client('ec2')\n",
    "vpc = ec2.create_vpc(CidrBlock='10.0.0.0/16')\n",
    "vpc.wait_until_available()\n",
    "vpc_id=vpc.id\n",
    "print(vpc.id)"
   ]
  },
  {
   "cell_type": "code",
   "execution_count": null,
   "id": "f8bd5dc5-e8e6-4304-97ee-98f3f40b6e51",
   "metadata": {},
   "outputs": [],
   "source": [
    "#Create Private Subnets\n",
    "subnet1 = ec2.create_subnet(CidrBlock='10.0.0.0/19', VpcId=vpc_id, AvailabilityZone=zone1)\n",
    "subnet1_id=subnet1.id\n",
    "print(subnet1.id)\n",
    "\n",
    "subnet2 = ec2.create_subnet(CidrBlock='10.0.32.0/19', VpcId=vpc_id,AvailabilityZone=zone2)\n",
    "print(subnet2.id)\n",
    "subnet2_id=subnet2.id\n"
   ]
  },
  {
   "cell_type": "code",
   "execution_count": null,
   "id": "1b170e4b-18f2-43a0-99b4-286633512f48",
   "metadata": {},
   "outputs": [],
   "source": [
    "#Create RDS DB Subnet\n",
    "conn = boto3.client('rds')\n",
    "\n",
    "response = conn.create_db_subnet_group(\n",
    "    DBSubnetGroupName='Trapheus-rdssubnetgrp',\n",
    "    DBSubnetGroupDescription='rdssubnetgrp',\n",
    "    SubnetIds=[subnet1_id,subnet2_id],\n",
    ")\n"
   ]
  },
  {
   "cell_type": "code",
   "execution_count": null,
   "id": "7fa2e8d8-f4b4-4f95-a3cf-5271743556b6",
   "metadata": {},
   "outputs": [],
   "source": [
    "# Get DB security group id\n",
    "response = ec2Client.describe_security_groups(\n",
    "    Filters=[\n",
    "        {\n",
    "            'Name': 'vpc-id',\n",
    "            'Values': [vpc_id,]\n",
    "        },\n",
    "    {\n",
    "            'Name': 'group-name',\n",
    "            'Values': [\"default\"]\n",
    "        },\n",
    "    ],\n",
    ")\n",
    "db_security_group_id=response['SecurityGroups'][0]['GroupId']\n",
    "print(db_security_group_id)\n"
   ]
  },
  {
   "cell_type": "code",
   "execution_count": null,
   "id": "c8b8d57f-dae2-4f53-b29c-a193a7b09b95",
   "metadata": {},
   "outputs": [],
   "source": [
    "db_instance_name"
   ]
  },
  {
   "cell_type": "code",
   "execution_count": null,
   "id": "63b095cf-43ba-44c0-9d57-b5257be7ed3c",
   "metadata": {},
   "outputs": [],
   "source": [
    "# Create RDS\n",
    "response = conn.create_db_instance(\n",
    "        AllocatedStorage=10,\n",
    "        DBInstanceIdentifier=db_instance_name,\n",
    "        DBInstanceClass=\"db.t2.small\",\n",
    "        Engine=\"mysql\",\n",
    "        MasterUsername=\"root\",\n",
    "        MasterUserPassword=\"pass12345\",\n",
    "        Port=3306,\n",
    "        VpcSecurityGroupIds=[db_security_group_id],\n",
    "        DBSubnetGroupName = \"Trapheus-rdssubnetgrp\",\n",
    "        StorageEncrypted=True\n",
    "    )"
   ]
  },
  {
   "cell_type": "code",
   "execution_count": null,
   "id": "c646117a-350e-4850-9344-4fcc862e475a",
   "metadata": {},
   "outputs": [],
   "source": [
    "print(\"verified email: {}\".format(email_id))\n",
    "print(\"S3 bucket: {} \".format(s3_bucket_name))\n",
    "print(\"Region: {}\".format(region))\n",
    "print(\"Availability zones: {}, {}\".format(zone1,zone2))\n",
    "print(\"VPC id: {}\".format(vpc.id))\n",
    "print(\"Subnet ids: {},{}\".format(subnet1.id, subnet2.id))\n"
   ]
  },
  {
   "cell_type": "markdown",
   "id": "cdc509d5-d0c6-40dc-94a7-3dc1d8c8eb71",
   "metadata": {},
   "source": [
    "# Use the above information while running Trapheus install notebook"
   ]
  }
 ],
 "metadata": {
  "kernelspec": {
   "display_name": "Python 3 (ipykernel)",
   "language": "python",
   "name": "python3"
  },
  "language_info": {
   "codemirror_mode": {
    "name": "ipython",
    "version": 3
   },
   "file_extension": ".py",
   "mimetype": "text/x-python",
   "name": "python",
   "nbconvert_exporter": "python",
   "pygments_lexer": "ipython3",
   "version": "3.11.4"
  }
 },
 "nbformat": 4,
 "nbformat_minor": 5
}
