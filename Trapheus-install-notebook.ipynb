{
 "cells": [
  {
   "cell_type": "markdown",
   "id": "a2f31174-16d1-4a7b-a1ca-ad36c3e49053",
   "metadata": {},
   "source": [
    "# We need the below parameters to install Trapheus. If you are new, you can use Prerequisites workbook and create the resources\n",
    "* s3-bucket : [Optional] The name of the CloudFormation template S3 bucket from the Pre-Requisites.\n",
    "* vpcID : [Required] The id of the VPC from the Pre-Requisites. The lambdas from the Trapheus state machine will be created in this VPC.\n",
    "* Subnets : [Required] A comma separated list of private subnet ids (region specific) from the Pre-Requisites VPC.\n",
    "* SenderEmail : [Required] The SES sending email configured in the Pre-Requisites\n",
    "* RecipientEmail : [Required] Comma separated list of recipient email addresses configured in Pre-Requisites.\n",
    "* UseVPCAndSubnets : [Optional] Whether to use the vpc and subnets to create a security group and link the security group and vpc to the lambdas. When UseVPCAndSubnets left out (default) or set to 'true', lambdas are connected to a VPC in your account, and by default the function can't access the RDS (or other services) if VPC doesn't provide access (either by routing outbound traffic to a NAT gateway in a public subnet, or having a VPC endpoint, both of which incur cost or require more setup). If set to 'false', the lambdas will run in a default Lambda owned VPC that has access to RDS (and other AWS services).\n",
    "* SlackWebhookUrls : [Optional] Comma separated list of Slack webhooks for failure alerts."
   ]
  },
  {
   "cell_type": "code",
   "execution_count": null,
   "id": "1bff0d83-8d17-4179-91ca-a3ffe3de94fb",
   "metadata": {},
   "outputs": [],
   "source": [
    "pip install -r requirements.txt"
   ]
  },
  {
   "cell_type": "code",
   "execution_count": null,
   "id": "51116639-ca0b-4df1-b4a7-c7fd2e7c2faf",
   "metadata": {},
   "outputs": [],
   "source": [
    "%run install.py"
   ]
  }
 ],
 "metadata": {
  "kernelspec": {
   "display_name": "Python 3 (ipykernel)",
   "language": "python",
   "name": "python3"
  },
  "language_info": {
   "codemirror_mode": {
    "name": "ipython",
    "version": 3
   },
   "file_extension": ".py",
   "mimetype": "text/x-python",
   "name": "python",
   "nbconvert_exporter": "python",
   "pygments_lexer": "ipython3",
   "version": "3.11.4"
  }
 },
 "nbformat": 4,
 "nbformat_minor": 5
}
